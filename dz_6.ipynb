{
 "cells": [
  {
   "cell_type": "code",
   "execution_count": 1,
   "metadata": {},
   "outputs": [],
   "source": [
    "#Задача 1"
   ]
  },
  {
   "cell_type": "code",
   "execution_count": 2,
   "metadata": {},
   "outputs": [],
   "source": [
    "import re\n",
    "def check_transport_number(transport_number):\n",
    "    number = r'[А, В, Е, К, М, Н, О, Р, С, Т, Х, A, B, E, K, M, H, O, P, C, T, X]{1}\\d{3}[А, В, Е, К, М, Н, О, Р, С, Т, Х, A, B, E, K, M, H, O, P, C, T, X]{2}\\d{2,3}'\n",
    "    num = r'\\d{3}'\n",
    "    if re.search(number, transport_number):\n",
    "        print('Transport number {} is valid'.format(transport_number))\n",
    "        print('Номер:',re.findall(num, transport_number)[0])\n",
    "        print('Регион:',re.findall(num, transport_number)[1])\n",
    "    else:\n",
    "        print('Transport number {} is unvalid'.format(transport_number))"
   ]
  },
  {
   "cell_type": "code",
   "execution_count": 3,
   "metadata": {},
   "outputs": [
    {
     "name": "stdout",
     "output_type": "stream",
     "text": [
      "Transport number B435BC778 is valid\n",
      "Номер: 435\n",
      "Регион: 778\n"
     ]
    }
   ],
   "source": [
    "check_transport_number('B435BC778')"
   ]
  },
  {
   "cell_type": "code",
   "execution_count": 4,
   "metadata": {},
   "outputs": [],
   "source": [
    "# Задача 3"
   ]
  },
  {
   "cell_type": "code",
   "execution_count": 7,
   "metadata": {},
   "outputs": [],
   "source": [
    "import re\n",
    "def give_akronim(text):\n",
    "    akr = ''\n",
    "    pattern = r'\\w+[\\s.,!?]'\n",
    "    s = re.findall(pattern, text)\n",
    "    for i in s:\n",
    "        akr = akr+i[0].upper()\n",
    "    return akr"
   ]
  },
  {
   "cell_type": "code",
   "execution_count": 8,
   "metadata": {},
   "outputs": [
    {
     "data": {
      "text/plain": [
       "'ПРМЗП'"
      ]
     },
     "execution_count": 8,
     "metadata": {},
     "output_type": "execute_result"
    }
   ],
   "source": [
    "give_akronim('Привет, Ришат! Меня зовут Петя.')"
   ]
  },
  {
   "cell_type": "code",
   "execution_count": null,
   "metadata": {},
   "outputs": [],
   "source": [
    "#Задача 4"
   ]
  },
  {
   "cell_type": "code",
   "execution_count": 9,
   "metadata": {},
   "outputs": [],
   "source": [
    "import re\n",
    "def delete_repeat(text):\n",
    "    pattern = r'(\\w+\\s?)\\1+'\n",
    "    new_text = re.sub(pattern, r'\\1', text)\n",
    "    print(new_text)"
   ]
  },
  {
   "cell_type": "code",
   "execution_count": 11,
   "metadata": {},
   "outputs": [
    {
     "name": "stdout",
     "output_type": "stream",
     "text": [
      "post new run new in new\n"
     ]
    }
   ],
   "source": [
    "delete_repeat('post post post post new new run new in new')"
   ]
  },
  {
   "cell_type": "code",
   "execution_count": 12,
   "metadata": {},
   "outputs": [],
   "source": [
    "#Задача 5"
   ]
  },
  {
   "cell_type": "code",
   "execution_count": 13,
   "metadata": {},
   "outputs": [],
   "source": [
    "import re\n",
    "def check_phone_number(number):\n",
    "    pattern = r'^\\+?([()-]*\\s*\\d){10,11}[()-]*\\s*$'\n",
    "    if re.search(pattern, number):\n",
    "        print('Phone number {} is valid'.format(number))\n",
    "        correct_number = number.replace('-','').replace('(','').replace(')','').replace('+','')\n",
    "        if len(correct_number) == 11:\n",
    "            correct_number = '+7(' + correct_number[1:4] + ')' + correct_number[4:7] + '-' + correct_number[7:9] + '-' + correct_number[9:11]\n",
    "        else:\n",
    "            correct_number = '+7(' + correct_number[0:3] + ')' + correct_number[3:6] + '-' + correct_number[6:8] + '-' + correct_number[8:10]\n",
    "        print(correct_number)\n",
    "    else:\n",
    "        print('Phone number {} is unvalid'.format(number))"
   ]
  },
  {
   "cell_type": "code",
   "execution_count": 14,
   "metadata": {},
   "outputs": [
    {
     "name": "stdout",
     "output_type": "stream",
     "text": [
      "Phone number 9264822712 is valid\n",
      "+7(926)482-27-12\n"
     ]
    }
   ],
   "source": [
    "check_phone_number('9264822712')"
   ]
  },
  {
   "cell_type": "code",
   "execution_count": null,
   "metadata": {},
   "outputs": [],
   "source": []
  },
  {
   "cell_type": "code",
   "execution_count": null,
   "metadata": {},
   "outputs": [],
   "source": []
  },
  {
   "cell_type": "code",
   "execution_count": null,
   "metadata": {},
   "outputs": [],
   "source": []
  },
  {
   "cell_type": "code",
   "execution_count": null,
   "metadata": {},
   "outputs": [],
   "source": []
  }
 ],
 "metadata": {
  "kernelspec": {
   "display_name": "Python 3",
   "language": "python",
   "name": "python3"
  },
  "language_info": {
   "codemirror_mode": {
    "name": "ipython",
    "version": 3
   },
   "file_extension": ".py",
   "mimetype": "text/x-python",
   "name": "python",
   "nbconvert_exporter": "python",
   "pygments_lexer": "ipython3",
   "version": "3.7.3"
  }
 },
 "nbformat": 4,
 "nbformat_minor": 2
}
